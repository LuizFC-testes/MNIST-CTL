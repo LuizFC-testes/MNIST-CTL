{
 "cells": [
  {
   "cell_type": "code",
   "execution_count": 16,
   "metadata": {},
   "outputs": [],
   "source": [
    "import os, sys\n",
    "import pandas as pd \n",
    "import numpy as np \n",
    "import torch\n",
    "from torch import nn\n",
    "from torchvision.transforms import v2\n",
    "from torch.utils.data import Dataset, DataLoader\n",
    "from torch.optim import SGD\n",
    "import matplotlib.pyplot as plt"
   ]
  },
  {
   "cell_type": "markdown",
   "metadata": {},
   "source": [
    "# Componentes"
   ]
  },
  {
   "cell_type": "markdown",
   "metadata": {},
   "source": [
    "## ResidualBlock"
   ]
  },
  {
   "cell_type": "code",
   "execution_count": 17,
   "metadata": {},
   "outputs": [],
   "source": [
    "class ResidualBlock(nn.Module):\n",
    "    def __init__(self, in_channels, out_channels):\n",
    "        super().__init__()\n",
    "        self.layers = nn.Sequential(\n",
    "            nn.Conv2d(\n",
    "                in_channels=in_channels,\n",
    "                out_channels=out_channels,\n",
    "                kernel_size=(3,3),\n",
    "                padding='same',\n",
    "                bias=False\n",
    "            ),\n",
    "            nn.BatchNorm2d(out_channels),\n",
    "            nn.ReLU(),\n",
    "            nn.Conv2d(\n",
    "                in_channels=out_channels,\n",
    "                out_channels=out_channels,\n",
    "                kernel_size=(3, 3),\n",
    "                padding='same',\n",
    "                bias=False\n",
    "            ),\n",
    "            nn.BatchNorm2d(out_channels)\n",
    "        )\n",
    "        self.downsample = nn.Sequential(\n",
    "            nn.Conv2d(\n",
    "                in_channels=in_channels,\n",
    "                out_channels=out_channels,\n",
    "                kernel_size=(3, 3),\n",
    "                padding='same',\n",
    "                bias=False\n",
    "            ),\n",
    "            nn.BatchNorm2d(out_channels)\n",
    "        )\n",
    "        self.in_channels = in_channels\n",
    "        self.out_channels = out_channels\n",
    "\n",
    "    def residual(self, X):\n",
    "        if self.in_channels == self.out_channels:\n",
    "            return X\n",
    "        else:\n",
    "            return self.downsample(X)\n",
    "        \n",
    "    def forward(self, X):\n",
    "        return self.layers(X) + self.residual(X)"
   ]
  },
  {
   "cell_type": "markdown",
   "metadata": {},
   "source": [
    "## ResidualPoolingBlock"
   ]
  },
  {
   "cell_type": "code",
   "execution_count": 18,
   "metadata": {},
   "outputs": [],
   "source": [
    "class ResidualPoolingBlock(nn.Module):\n",
    "    def __init__(self, in_channels, out_channels):\n",
    "        super().__init__()\n",
    "        self.layers = nn.Sequential(\n",
    "            ResidualBlock(in_channels, out_channels),\n",
    "            ResidualBlock(out_channels, out_channels),\n",
    "            nn.AvgPool2d(kernel_size=(2, 2), stride=(2, 2))\n",
    "        )\n",
    "\n",
    "    def forward(self, X):\n",
    "        return self.layers(X)"
   ]
  },
  {
   "cell_type": "markdown",
   "metadata": {},
   "source": [
    "## Transformações"
   ]
  },
  {
   "cell_type": "code",
   "execution_count": 257,
   "metadata": {},
   "outputs": [],
   "source": [
    "class MNISTTransform(nn.Module):\n",
    "    def __init__(self):\n",
    "        super().__init__()\n",
    "        self.transforms = v2.Compose([\n",
    "            v2.RandomRotation(degrees=15),\n",
    "            v2.RandomInvert(p=0.2)\n",
    "        ])\n",
    "\n",
    "    def forward(self, X):\n",
    "        return self.transforms(X)"
   ]
  },
  {
   "cell_type": "markdown",
   "metadata": {},
   "source": [
    "## Sampler"
   ]
  },
  {
   "cell_type": "code",
   "execution_count": 258,
   "metadata": {},
   "outputs": [],
   "source": [
    "from math import ceil, floor\n",
    "from torch.utils.data import Sampler"
   ]
  },
  {
   "cell_type": "code",
   "execution_count": 328,
   "metadata": {},
   "outputs": [],
   "source": [
    "class MNISTSampler(Sampler):\n",
    "    def __init__(self, label_idxs, group_size=32):\n",
    "        super().__init__()\n",
    "        self.label_idxs = label_idxs\n",
    "        self.group_size = group_size\n",
    "        self.max_iter = np.min([len(self.label_idxs[l]) for l in self.label_idxs])//self.group_size\n",
    "\n",
    "    def __iter__(self):\n",
    "        shuffled_idxs = {\n",
    "            l: np.random.permutation(self.label_idxs[l]).astype(int) for l in self.label_idxs\n",
    "        }\n",
    "        for batch in range(self.max_iter):\n",
    "            indexes = np.array([], dtype=int)\n",
    "            for label in shuffled_idxs:\n",
    "                indexes = np.append(\n",
    "                    indexes,\n",
    "                    shuffled_idxs[label][batch*self.group_size:(batch+1)*self.group_size]\n",
    "                )\n",
    "            yield indexes\n",
    "\n",
    "    def __len__(self):\n",
    "        return self.max_iter"
   ]
  },
  {
   "cell_type": "markdown",
   "metadata": {},
   "source": [
    "## Loss Functions"
   ]
  },
  {
   "cell_type": "markdown",
   "metadata": {},
   "source": [
    "### Centroid Triplet Loss"
   ]
  },
  {
   "cell_type": "code",
   "execution_count": 440,
   "metadata": {},
   "outputs": [],
   "source": [
    "class CentroidTripletLoss(nn.Module):\n",
    "    def __init__(self, margin, n_classes=10, group_size=32):\n",
    "        super().__init__()\n",
    "        self.n_classes = n_classes\n",
    "        self.group_size = group_size\n",
    "        self.margin = margin\n",
    "\n",
    "    def calculate_centroids(self, embeddings):\n",
    "        centroids = [torch.mean(embeddings[i*self.group_size:(i+1)*self.group_size], dim=0) for i in range(self.n_classes)]\n",
    "        centroids_tensor = torch.cat([c.unsqueeze(dim=0) for c in centroids], dim=0)\n",
    "        return centroids_tensor\n",
    "    \n",
    "    def calculate_excludent_centroid(self, embeddings, group_idx, excl_rel_idx):\n",
    "        group_embeddings = embeddings[group_idx*self.group_size:(group_idx+1)*self.group_size]\n",
    "        num_embeddings = group_embeddings.shape[0] - 1\n",
    "        return torch.cat([group_embeddings[:excl_rel_idx], group_embeddings[excl_rel_idx+1:]]).sum(axis=0)/num_embeddings\n",
    "\n",
    "    \n",
    "    def euclidean_distance(self, tensor_1, tensor_2):\n",
    "        return torch.cdist(tensor_1.unsqueeze(dim=0), tensor_2.unsqueeze(dim=0)).squeeze()\n",
    "    \n",
    "    def centroid_triplet_loss(self, embeddings, centroids):\n",
    "        accum_loss = torch.tensor(0.0)\n",
    "        for i in range(embeddings.shape[0]):\n",
    "            pos_group_idx = i//self.group_size\n",
    "            rel_idx = i%self.group_size\n",
    "            mean_neg_dist = torch.tensor(0.0)\n",
    "\n",
    "            pos_centroid = self.calculate_excludent_centroid(embeddings, pos_group_idx, rel_idx)\n",
    "            pos_dist = self.euclidean_distance(embeddings[i], pos_centroid)\n",
    "            for j in range(self.n_classes):\n",
    "                if j != pos_group_idx:\n",
    "                    neg_group_centroid = centroids[j]\n",
    "                    mean_neg_dist += self.euclidean_distance(embeddings[i], neg_group_centroid)\n",
    "            mean_neg_dist /= (self.n_classes-1)\n",
    "            # Para efeito prático, é calculada a média dos centroid triplet loss do embedding\n",
    "            # em relação a cada grupo negativo\n",
    "            accum_loss += torch.max(pos_dist - mean_neg_dist + self.margin, torch.tensor(0.0))\n",
    "\n",
    "        return accum_loss/(self.n_classes*self.group_size)\n",
    "    \n",
    "    def forward(self, embeddings):\n",
    "        centroids = self.calculate_centroids(embeddings)\n",
    "        return self.centroid_triplet_loss(embeddings, centroids)"
   ]
  },
  {
   "cell_type": "markdown",
   "metadata": {},
   "source": [
    "### Complete Loss"
   ]
  },
  {
   "cell_type": "code",
   "execution_count": 400,
   "metadata": {},
   "outputs": [],
   "source": [
    "class CompleteLoss(nn.Module):\n",
    "    def __init__(self, crossent_w=1):\n",
    "        super().__init__()\n",
    "        self.cross_ent_loss_func = nn.CrossEntropyLoss()\n",
    "        self.ce_w = crossent_w\n",
    "\n",
    "    def cross_entropy_loss(self, logits, targets):\n",
    "        return self.cross_ent_loss_func(logits, targets)\n",
    "\n",
    "    def forward(self, logits, targets, interm_loss):\n",
    "        ce_loss = self.cross_ent_loss_func(logits, targets)\n",
    "        comp_loss = interm_loss + self.ce_w*ce_loss\n",
    "        return comp_loss"
   ]
  },
  {
   "cell_type": "markdown",
   "metadata": {},
   "source": [
    "## Dataset"
   ]
  },
  {
   "cell_type": "code",
   "execution_count": 485,
   "metadata": {},
   "outputs": [],
   "source": [
    "from torch.nn.functional import one_hot"
   ]
  },
  {
   "cell_type": "code",
   "execution_count": 504,
   "metadata": {},
   "outputs": [],
   "source": [
    "class MNISTDataset(Dataset):\n",
    "    def __init__(self, data: pd.DataFrame):\n",
    "        self.transforms = MNISTTransform()\n",
    "        self.format_data(data)\n",
    "        self.group_indexes = {\n",
    "            l: np.array(data.groupby(\"label\").groups[l], dtype=int) for l in data.groupby(\"label\").groups\n",
    "        }\n",
    "\n",
    "    def get_tensor(self, row):\n",
    "        matrix = np.array([row[28*i:28*(i+1)] for i in range(28)])\n",
    "        return torch.tensor(matrix, dtype=torch.float)\n",
    "        \n",
    "    def format_data(self, data: pd.DataFrame):\n",
    "        one_hot_targets = one_hot(torch.tensor(data.label.to_numpy(), dtype=torch.int64), num_classes=10)\n",
    "        self.targets = one_hot_targets\n",
    "        images = data.drop(columns=\"label\")\n",
    "        images_idx = data.index\n",
    "        images_array = images.to_numpy()\n",
    "        formatted = np.fromiter((self.get_tensor(arr) for arr in images_array), dtype=object)\n",
    "        formatted_series = pd.Series(formatted, index=images_idx, name=\"Images\")\n",
    "        self.images = formatted_series\n",
    "\n",
    "    def get_sampler(self, group_size=32):\n",
    "        return MNISTSampler(self.group_indexes, group_size)\n",
    "\n",
    "    def __getitem__(self, idx):\n",
    "        X = self.transforms(self.images.iloc[idx].unsqueeze(dim=0))\n",
    "        y = self.targets[idx]\n",
    "        return (X, y)\n",
    "    \n",
    "    def __len__(self):\n",
    "        return self.targets.shape[0]"
   ]
  },
  {
   "cell_type": "markdown",
   "metadata": {},
   "source": [
    "## CNN"
   ]
  },
  {
   "cell_type": "code",
   "execution_count": 487,
   "metadata": {},
   "outputs": [],
   "source": [
    "from tqdm.auto import tqdm\n",
    "from torch.optim.lr_scheduler import MultiStepLR"
   ]
  },
  {
   "cell_type": "code",
   "execution_count": 521,
   "metadata": {},
   "outputs": [],
   "source": [
    "class MNISTCNN(nn.Module):\n",
    "    def __init__(self, in_channels=1):\n",
    "        super().__init__()\n",
    "        self.layers = nn.Sequential(\n",
    "            nn.Conv2d(\n",
    "                in_channels=in_channels,\n",
    "                out_channels=4,\n",
    "                kernel_size=(3, 3),\n",
    "                padding='same',\n",
    "                bias=False\n",
    "            ),\n",
    "            nn.BatchNorm2d(4),\n",
    "            nn.ReLU(),\n",
    "            ResidualPoolingBlock(4, 16),\n",
    "            ResidualPoolingBlock(16, 32),\n",
    "            nn.AvgPool2d(kernel_size=(7, 7))\n",
    "        )\n",
    "        self.classifier = nn.Sequential(\n",
    "            nn.Linear(\n",
    "                in_features=32,\n",
    "                out_features=16,\n",
    "            ),\n",
    "            nn.ReLU(),\n",
    "            nn.Linear(\n",
    "                in_features=16,\n",
    "                out_features=10\n",
    "            )\n",
    "        )\n",
    "\n",
    "        self.CTL = None\n",
    "        self.comp_loss = None\n",
    "\n",
    "        self.loss_hist = {\n",
    "            \"Train\": [],\n",
    "            \"Val\": []\n",
    "        }\n",
    "\n",
    "    def forward(self, X):\n",
    "        return self.layers(X.to(dtype=torch.float)).squeeze()\n",
    "\n",
    "    def fit(\n",
    "            self,\n",
    "            tr_dataloader,\n",
    "            validate=False,\n",
    "            val_dataloader=None,\n",
    "            epochs=120,\n",
    "            lr=0.001,\n",
    "            margin=0.3,\n",
    "            group_size=32,\n",
    "            crossent_w=1\n",
    "    ):\n",
    "        self.optim = torch.optim.SGD(self.parameters(), lr)\n",
    "        self.CTL = CentroidTripletLoss(margin, group_size=group_size)\n",
    "        self.comp_loss = CompleteLoss(crossent_w=crossent_w)\n",
    "        self.scheduler = MultiStepLR(\n",
    "            optimizer=self.optim,\n",
    "            milestones=[40, 70],\n",
    "            gamma=0.1\n",
    "        )\n",
    "\n",
    "        epoch_iterator = tqdm(\n",
    "            range(epochs),\n",
    "            desc=\"Época\"\n",
    "        )\n",
    "\n",
    "        for epoch in epoch_iterator:\n",
    "            epoch_train_loss = 0\n",
    "            epoch_val_loss = 0\n",
    "            batch_iterator = tqdm(\n",
    "                enumerate(tr_dataloader),\n",
    "                desc=\"Batch\"\n",
    "            )\n",
    "            for batch, (X, y) in batch_iterator:\n",
    "                self.train()\n",
    "                embeddings = self(X)\n",
    "                ctl = self.CTL(embeddings)\n",
    "                logits = self.classifier(embeddings)\n",
    "                batch_loss = self.comp_loss(logits, y.to(dtype=torch.int64), ctl)\n",
    "                epoch_train_loss += batch_loss.item()\n",
    "                self.optim.zero_grad()\n",
    "                batch_loss.backward()\n",
    "                self.optim.step()\n",
    "                self.scheduler.step()\n",
    "                self.eval()\n",
    "\n",
    "            epoch_train_loss /= len(tr_dataloader.batch_sampler)\n",
    "            self.loss_hist[\"Train\"].append(epoch_train_loss)\n",
    "\n",
    "            if validate:\n",
    "                val_batch_iterator = tqdm(\n",
    "                    iterable=enumerate(val_dataloader),\n",
    "                    desc=\"Validation Batch\"\n",
    "                )\n",
    "                for batch, (X, y) in val_batch_iterator:\n",
    "                    val_embeddings = self(X)\n",
    "                    ctl = self.CTL(val_embeddings)\n",
    "                    logits = self.classifier(val_embeddings)\n",
    "                    val_batch_loss = self.comp_loss(logits, y, ctl)\n",
    "                    epoch_val_loss += val_batch_loss.item()\n",
    "                epoch_val_loss /= len(val_dataloader.batch_sampler)\n",
    "                self.loss_hist[\"Val\"].append(epoch_val_loss)\n",
    "\n",
    "    def plot_loss_history(self):\n",
    "        epoch_indexes = np.arange(len(self.loss_hist[\"Train\"]))\n",
    "        plt.plot(epoch_indexes, self.loss_hist[\"Train\"], c='b', label=\"Treino\")\n",
    "        if len(self.loss_hist[\"Val\"]) > 0:\n",
    "            plt.plot(epoch_indexes, self.loss_hist[\"Val\"], c='r', label=\"Validação\")\n",
    "\n",
    "        plt.legend(title=\"Loss\", loc='upper left', bbox_to_anchor=(1, 1))\n",
    "        plt.title(\"Progressão das perdas por época\")\n",
    "        plt.xlabel(\"Época\")\n",
    "        plt.ylabel(\"Perda\")\n",
    "        plt.show()\n"
   ]
  },
  {
   "cell_type": "markdown",
   "metadata": {},
   "source": [
    "# Testes"
   ]
  },
  {
   "cell_type": "markdown",
   "metadata": {},
   "source": [
    "## ResidualBlock"
   ]
  },
  {
   "cell_type": "code",
   "execution_count": 489,
   "metadata": {},
   "outputs": [
    {
     "data": {
      "text/plain": [
       "torch.Size([1, 4, 28, 28])"
      ]
     },
     "execution_count": 489,
     "metadata": {},
     "output_type": "execute_result"
    }
   ],
   "source": [
    "random_input = torch.rand(size=(1, 1, 28, 28), dtype=torch.float)\n",
    "res_block = ResidualBlock(1, 4)\n",
    "res_block(random_input).shape"
   ]
  },
  {
   "cell_type": "markdown",
   "metadata": {},
   "source": [
    "## ResidualPoolingBlock"
   ]
  },
  {
   "cell_type": "code",
   "execution_count": 490,
   "metadata": {},
   "outputs": [
    {
     "data": {
      "text/plain": [
       "torch.Size([1, 4, 14, 14])"
      ]
     },
     "execution_count": 490,
     "metadata": {},
     "output_type": "execute_result"
    }
   ],
   "source": [
    "res_pooling = ResidualPoolingBlock(1, 4)\n",
    "res_pooling(random_input).shape"
   ]
  },
  {
   "cell_type": "markdown",
   "metadata": {},
   "source": [
    "## Dataset, Sampler & DataLoader"
   ]
  },
  {
   "cell_type": "markdown",
   "metadata": {},
   "source": [
    "### Dataset"
   ]
  },
  {
   "cell_type": "code",
   "execution_count": 491,
   "metadata": {},
   "outputs": [],
   "source": [
    "data_path = os.path.join('..', 'data', 'train.csv')\n",
    "data = pd.read_csv(data_path)"
   ]
  },
  {
   "cell_type": "code",
   "execution_count": 505,
   "metadata": {},
   "outputs": [],
   "source": [
    "dataset = MNISTDataset(data)"
   ]
  },
  {
   "cell_type": "code",
   "execution_count": 506,
   "metadata": {},
   "outputs": [
    {
     "data": {
      "text/plain": [
       "torch.Size([28, 28])"
      ]
     },
     "execution_count": 506,
     "metadata": {},
     "output_type": "execute_result"
    }
   ],
   "source": [
    "dataset.images[0].shape"
   ]
  },
  {
   "cell_type": "code",
   "execution_count": 509,
   "metadata": {},
   "outputs": [
    {
     "data": {
      "text/plain": [
       "42000"
      ]
     },
     "execution_count": 509,
     "metadata": {},
     "output_type": "execute_result"
    }
   ],
   "source": [
    "len(dataset)"
   ]
  },
  {
   "cell_type": "code",
   "execution_count": 510,
   "metadata": {},
   "outputs": [
    {
     "data": {
      "text/plain": [
       "(42000,)"
      ]
     },
     "execution_count": 510,
     "metadata": {},
     "output_type": "execute_result"
    }
   ],
   "source": [
    "dataset.images.shape"
   ]
  },
  {
   "cell_type": "code",
   "execution_count": 515,
   "metadata": {},
   "outputs": [
    {
     "data": {
      "text/plain": [
       "torch.Size([42000, 10])"
      ]
     },
     "execution_count": 515,
     "metadata": {},
     "output_type": "execute_result"
    }
   ],
   "source": [
    "dataset.targets.shape"
   ]
  },
  {
   "cell_type": "code",
   "execution_count": 513,
   "metadata": {},
   "outputs": [
    {
     "data": {
      "image/png": "[encoded data removed]",
      "text/plain": [
       "<Figure size 640x480 with 8 Axes>"
      ]
     },
     "metadata": {},
     "output_type": "display_data"
    }
   ],
   "source": [
    "fig, axes = plt.subplots(nrows=2, ncols=4)\n",
    "for line in axes:\n",
    "    for ax in line:\n",
    "        random_idx = np.random.randint(0, len(dataset))\n",
    "        random_img, random_img_label = dataset[random_idx]\n",
    "        ax.imshow(random_img.squeeze(dim=0), cmap='Grays')\n",
    "        ax.axis(\"off\")\n",
    "        ax.set_title(str(random_img_label.argmax().item()))\n",
    "plt.show()"
   ]
  },
  {
   "cell_type": "code",
   "execution_count": 514,
   "metadata": {},
   "outputs": [
    {
     "data": {
      "text/plain": [
       "numpy.int64"
      ]
     },
     "execution_count": 514,
     "metadata": {},
     "output_type": "execute_result"
    }
   ],
   "source": [
    "type(dataset.group_indexes[0][0])"
   ]
  },
  {
   "cell_type": "markdown",
   "metadata": {},
   "source": [
    "### Sampler"
   ]
  },
  {
   "cell_type": "code",
   "execution_count": null,
   "metadata": {},
   "outputs": [],
   "source": [
    "sampler = dataset.get_sampler()"
   ]
  },
  {
   "cell_type": "code",
   "execution_count": null,
   "metadata": {},
   "outputs": [
    {
     "data": {
      "text/plain": [
       "118"
      ]
     },
     "execution_count": 414,
     "metadata": {},
     "output_type": "execute_result"
    }
   ],
   "source": [
    "len(sampler)"
   ]
  },
  {
   "cell_type": "code",
   "execution_count": null,
   "metadata": {},
   "outputs": [
    {
     "name": "stdout",
     "output_type": "stream",
     "text": [
      "Largura do batch 0: 320\n",
      "Largura do batch 1: 320\n",
      "Largura do batch 2: 320\n",
      "Largura do batch 3: 320\n",
      "Largura do batch 4: 320\n",
      "Largura do batch 5: 320\n",
      "Largura do batch 6: 320\n",
      "Largura do batch 7: 320\n",
      "Largura do batch 8: 320\n",
      "Largura do batch 9: 320\n",
      "Largura do batch 10: 320\n",
      "Largura do batch 11: 320\n",
      "Largura do batch 12: 320\n",
      "Largura do batch 13: 320\n",
      "Largura do batch 14: 320\n",
      "Largura do batch 15: 320\n",
      "Largura do batch 16: 320\n",
      "Largura do batch 17: 320\n",
      "Largura do batch 18: 320\n",
      "Largura do batch 19: 320\n",
      "Largura do batch 20: 320\n",
      "Largura do batch 21: 320\n",
      "Largura do batch 22: 320\n",
      "Largura do batch 23: 320\n",
      "Largura do batch 24: 320\n",
      "Largura do batch 25: 320\n",
      "Largura do batch 26: 320\n",
      "Largura do batch 27: 320\n",
      "Largura do batch 28: 320\n",
      "Largura do batch 29: 320\n",
      "Largura do batch 30: 320\n",
      "Largura do batch 31: 320\n",
      "Largura do batch 32: 320\n",
      "Largura do batch 33: 320\n",
      "Largura do batch 34: 320\n",
      "Largura do batch 35: 320\n",
      "Largura do batch 36: 320\n",
      "Largura do batch 37: 320\n",
      "Largura do batch 38: 320\n",
      "Largura do batch 39: 320\n",
      "Largura do batch 40: 320\n",
      "Largura do batch 41: 320\n",
      "Largura do batch 42: 320\n",
      "Largura do batch 43: 320\n",
      "Largura do batch 44: 320\n",
      "Largura do batch 45: 320\n",
      "Largura do batch 46: 320\n",
      "Largura do batch 47: 320\n",
      "Largura do batch 48: 320\n",
      "Largura do batch 49: 320\n",
      "Largura do batch 50: 320\n",
      "Largura do batch 51: 320\n",
      "Largura do batch 52: 320\n",
      "Largura do batch 53: 320\n",
      "Largura do batch 54: 320\n",
      "Largura do batch 55: 320\n",
      "Largura do batch 56: 320\n",
      "Largura do batch 57: 320\n",
      "Largura do batch 58: 320\n",
      "Largura do batch 59: 320\n",
      "Largura do batch 60: 320\n",
      "Largura do batch 61: 320\n",
      "Largura do batch 62: 320\n",
      "Largura do batch 63: 320\n",
      "Largura do batch 64: 320\n",
      "Largura do batch 65: 320\n",
      "Largura do batch 66: 320\n",
      "Largura do batch 67: 320\n",
      "Largura do batch 68: 320\n",
      "Largura do batch 69: 320\n",
      "Largura do batch 70: 320\n",
      "Largura do batch 71: 320\n",
      "Largura do batch 72: 320\n",
      "Largura do batch 73: 320\n",
      "Largura do batch 74: 320\n",
      "Largura do batch 75: 320\n",
      "Largura do batch 76: 320\n",
      "Largura do batch 77: 320\n",
      "Largura do batch 78: 320\n",
      "Largura do batch 79: 320\n",
      "Largura do batch 80: 320\n",
      "Largura do batch 81: 320\n",
      "Largura do batch 82: 320\n",
      "Largura do batch 83: 320\n",
      "Largura do batch 84: 320\n",
      "Largura do batch 85: 320\n",
      "Largura do batch 86: 320\n",
      "Largura do batch 87: 320\n",
      "Largura do batch 88: 320\n",
      "Largura do batch 89: 320\n",
      "Largura do batch 90: 320\n",
      "Largura do batch 91: 320\n",
      "Largura do batch 92: 320\n",
      "Largura do batch 93: 320\n",
      "Largura do batch 94: 320\n",
      "Largura do batch 95: 320\n",
      "Largura do batch 96: 320\n",
      "Largura do batch 97: 320\n",
      "Largura do batch 98: 320\n",
      "Largura do batch 99: 320\n",
      "Largura do batch 100: 320\n",
      "Largura do batch 101: 320\n",
      "Largura do batch 102: 320\n",
      "Largura do batch 103: 320\n",
      "Largura do batch 104: 320\n",
      "Largura do batch 105: 320\n",
      "Largura do batch 106: 320\n",
      "Largura do batch 107: 320\n",
      "Largura do batch 108: 320\n",
      "Largura do batch 109: 320\n",
      "Largura do batch 110: 320\n",
      "Largura do batch 111: 320\n",
      "Largura do batch 112: 320\n",
      "Largura do batch 113: 320\n",
      "Largura do batch 114: 320\n",
      "Largura do batch 115: 320\n",
      "Largura do batch 116: 320\n",
      "Largura do batch 117: 320\n"
     ]
    }
   ],
   "source": [
    "for batch, idxs in enumerate(sampler):\n",
    "    print(f\"Largura do batch {batch}: {len(idxs)}\")"
   ]
  },
  {
   "cell_type": "markdown",
   "metadata": {},
   "source": [
    "### DataLoader"
   ]
  },
  {
   "cell_type": "code",
   "execution_count": null,
   "metadata": {},
   "outputs": [],
   "source": [
    "dataloader = DataLoader(dataset=dataset, batch_sampler=sampler)"
   ]
  },
  {
   "cell_type": "code",
   "execution_count": null,
   "metadata": {},
   "outputs": [
    {
     "name": "stdout",
     "output_type": "stream",
     "text": [
      "Dimensões do batch 0: torch.Size([320, 1, 28, 28])\n",
      "Dimensões do batch 1: torch.Size([320, 1, 28, 28])\n",
      "Dimensões do batch 2: torch.Size([320, 1, 28, 28])\n",
      "Dimensões do batch 3: torch.Size([320, 1, 28, 28])\n",
      "Dimensões do batch 4: torch.Size([320, 1, 28, 28])\n",
      "Dimensões do batch 5: torch.Size([320, 1, 28, 28])\n",
      "Dimensões do batch 6: torch.Size([320, 1, 28, 28])\n",
      "Dimensões do batch 7: torch.Size([320, 1, 28, 28])\n",
      "Dimensões do batch 8: torch.Size([320, 1, 28, 28])\n",
      "Dimensões do batch 9: torch.Size([320, 1, 28, 28])\n",
      "Dimensões do batch 10: torch.Size([320, 1, 28, 28])\n",
      "Dimensões do batch 11: torch.Size([320, 1, 28, 28])\n",
      "Dimensões do batch 12: torch.Size([320, 1, 28, 28])\n",
      "Dimensões do batch 13: torch.Size([320, 1, 28, 28])\n",
      "Dimensões do batch 14: torch.Size([320, 1, 28, 28])\n",
      "Dimensões do batch 15: torch.Size([320, 1, 28, 28])\n",
      "Dimensões do batch 16: torch.Size([320, 1, 28, 28])\n",
      "Dimensões do batch 17: torch.Size([320, 1, 28, 28])\n",
      "Dimensões do batch 18: torch.Size([320, 1, 28, 28])\n",
      "Dimensões do batch 19: torch.Size([320, 1, 28, 28])\n",
      "Dimensões do batch 20: torch.Size([320, 1, 28, 28])\n",
      "Dimensões do batch 21: torch.Size([320, 1, 28, 28])\n",
      "Dimensões do batch 22: torch.Size([320, 1, 28, 28])\n",
      "Dimensões do batch 23: torch.Size([320, 1, 28, 28])\n",
      "Dimensões do batch 24: torch.Size([320, 1, 28, 28])\n",
      "Dimensões do batch 25: torch.Size([320, 1, 28, 28])\n",
      "Dimensões do batch 26: torch.Size([320, 1, 28, 28])\n",
      "Dimensões do batch 27: torch.Size([320, 1, 28, 28])\n",
      "Dimensões do batch 28: torch.Size([320, 1, 28, 28])\n",
      "Dimensões do batch 29: torch.Size([320, 1, 28, 28])\n",
      "Dimensões do batch 30: torch.Size([320, 1, 28, 28])\n",
      "Dimensões do batch 31: torch.Size([320, 1, 28, 28])\n",
      "Dimensões do batch 32: torch.Size([320, 1, 28, 28])\n",
      "Dimensões do batch 33: torch.Size([320, 1, 28, 28])\n",
      "Dimensões do batch 34: torch.Size([320, 1, 28, 28])\n",
      "Dimensões do batch 35: torch.Size([320, 1, 28, 28])\n",
      "Dimensões do batch 36: torch.Size([320, 1, 28, 28])\n",
      "Dimensões do batch 37: torch.Size([320, 1, 28, 28])\n",
      "Dimensões do batch 38: torch.Size([320, 1, 28, 28])\n",
      "Dimensões do batch 39: torch.Size([320, 1, 28, 28])\n",
      "Dimensões do batch 40: torch.Size([320, 1, 28, 28])\n",
      "Dimensões do batch 41: torch.Size([320, 1, 28, 28])\n",
      "Dimensões do batch 42: torch.Size([320, 1, 28, 28])\n",
      "Dimensões do batch 43: torch.Size([320, 1, 28, 28])\n",
      "Dimensões do batch 44: torch.Size([320, 1, 28, 28])\n",
      "Dimensões do batch 45: torch.Size([320, 1, 28, 28])\n",
      "Dimensões do batch 46: torch.Size([320, 1, 28, 28])\n",
      "Dimensões do batch 47: torch.Size([320, 1, 28, 28])\n",
      "Dimensões do batch 48: torch.Size([320, 1, 28, 28])\n",
      "Dimensões do batch 49: torch.Size([320, 1, 28, 28])\n",
      "Dimensões do batch 50: torch.Size([320, 1, 28, 28])\n",
      "Dimensões do batch 51: torch.Size([320, 1, 28, 28])\n",
      "Dimensões do batch 52: torch.Size([320, 1, 28, 28])\n",
      "Dimensões do batch 53: torch.Size([320, 1, 28, 28])\n",
      "Dimensões do batch 54: torch.Size([320, 1, 28, 28])\n",
      "Dimensões do batch 55: torch.Size([320, 1, 28, 28])\n",
      "Dimensões do batch 56: torch.Size([320, 1, 28, 28])\n",
      "Dimensões do batch 57: torch.Size([320, 1, 28, 28])\n",
      "Dimensões do batch 58: torch.Size([320, 1, 28, 28])\n",
      "Dimensões do batch 59: torch.Size([320, 1, 28, 28])\n",
      "Dimensões do batch 60: torch.Size([320, 1, 28, 28])\n",
      "Dimensões do batch 61: torch.Size([320, 1, 28, 28])\n",
      "Dimensões do batch 62: torch.Size([320, 1, 28, 28])\n",
      "Dimensões do batch 63: torch.Size([320, 1, 28, 28])\n",
      "Dimensões do batch 64: torch.Size([320, 1, 28, 28])\n",
      "Dimensões do batch 65: torch.Size([320, 1, 28, 28])\n",
      "Dimensões do batch 66: torch.Size([320, 1, 28, 28])\n",
      "Dimensões do batch 67: torch.Size([320, 1, 28, 28])\n",
      "Dimensões do batch 68: torch.Size([320, 1, 28, 28])\n",
      "Dimensões do batch 69: torch.Size([320, 1, 28, 28])\n",
      "Dimensões do batch 70: torch.Size([320, 1, 28, 28])\n",
      "Dimensões do batch 71: torch.Size([320, 1, 28, 28])\n",
      "Dimensões do batch 72: torch.Size([320, 1, 28, 28])\n",
      "Dimensões do batch 73: torch.Size([320, 1, 28, 28])\n",
      "Dimensões do batch 74: torch.Size([320, 1, 28, 28])\n",
      "Dimensões do batch 75: torch.Size([320, 1, 28, 28])\n",
      "Dimensões do batch 76: torch.Size([320, 1, 28, 28])\n",
      "Dimensões do batch 77: torch.Size([320, 1, 28, 28])\n",
      "Dimensões do batch 78: torch.Size([320, 1, 28, 28])\n",
      "Dimensões do batch 79: torch.Size([320, 1, 28, 28])\n",
      "Dimensões do batch 80: torch.Size([320, 1, 28, 28])\n",
      "Dimensões do batch 81: torch.Size([320, 1, 28, 28])\n",
      "Dimensões do batch 82: torch.Size([320, 1, 28, 28])\n",
      "Dimensões do batch 83: torch.Size([320, 1, 28, 28])\n",
      "Dimensões do batch 84: torch.Size([320, 1, 28, 28])\n",
      "Dimensões do batch 85: torch.Size([320, 1, 28, 28])\n",
      "Dimensões do batch 86: torch.Size([320, 1, 28, 28])\n",
      "Dimensões do batch 87: torch.Size([320, 1, 28, 28])\n",
      "Dimensões do batch 88: torch.Size([320, 1, 28, 28])\n",
      "Dimensões do batch 89: torch.Size([320, 1, 28, 28])\n",
      "Dimensões do batch 90: torch.Size([320, 1, 28, 28])\n",
      "Dimensões do batch 91: torch.Size([320, 1, 28, 28])\n",
      "Dimensões do batch 92: torch.Size([320, 1, 28, 28])\n",
      "Dimensões do batch 93: torch.Size([320, 1, 28, 28])\n",
      "Dimensões do batch 94: torch.Size([320, 1, 28, 28])\n",
      "Dimensões do batch 95: torch.Size([320, 1, 28, 28])\n",
      "Dimensões do batch 96: torch.Size([320, 1, 28, 28])\n",
      "Dimensões do batch 97: torch.Size([320, 1, 28, 28])\n",
      "Dimensões do batch 98: torch.Size([320, 1, 28, 28])\n",
      "Dimensões do batch 99: torch.Size([320, 1, 28, 28])\n",
      "Dimensões do batch 100: torch.Size([320, 1, 28, 28])\n",
      "Dimensões do batch 101: torch.Size([320, 1, 28, 28])\n",
      "Dimensões do batch 102: torch.Size([320, 1, 28, 28])\n",
      "Dimensões do batch 103: torch.Size([320, 1, 28, 28])\n",
      "Dimensões do batch 104: torch.Size([320, 1, 28, 28])\n",
      "Dimensões do batch 105: torch.Size([320, 1, 28, 28])\n",
      "Dimensões do batch 106: torch.Size([320, 1, 28, 28])\n",
      "Dimensões do batch 107: torch.Size([320, 1, 28, 28])\n",
      "Dimensões do batch 108: torch.Size([320, 1, 28, 28])\n",
      "Dimensões do batch 109: torch.Size([320, 1, 28, 28])\n",
      "Dimensões do batch 110: torch.Size([320, 1, 28, 28])\n",
      "Dimensões do batch 111: torch.Size([320, 1, 28, 28])\n",
      "Dimensões do batch 112: torch.Size([320, 1, 28, 28])\n",
      "Dimensões do batch 113: torch.Size([320, 1, 28, 28])\n",
      "Dimensões do batch 114: torch.Size([320, 1, 28, 28])\n",
      "Dimensões do batch 115: torch.Size([320, 1, 28, 28])\n",
      "Dimensões do batch 116: torch.Size([320, 1, 28, 28])\n",
      "Dimensões do batch 117: torch.Size([320, 1, 28, 28])\n"
     ]
    }
   ],
   "source": [
    "for batch, (X, y) in enumerate(dataloader):\n",
    "    print(f\"Dimensões do batch {batch}: {X.shape}\")"
   ]
  },
  {
   "cell_type": "markdown",
   "metadata": {},
   "source": [
    "## Funções de custo"
   ]
  },
  {
   "cell_type": "code",
   "execution_count": null,
   "metadata": {},
   "outputs": [],
   "source": [
    "ctl = CentroidTripletLoss(margin=0.3, group_size=3, n_classes=4)\n",
    "fake_embeddings = torch.rand(size=(12, 3))"
   ]
  },
  {
   "cell_type": "code",
   "execution_count": null,
   "metadata": {},
   "outputs": [
    {
     "data": {
      "text/plain": [
       "tensor([[0.4855, 0.3393, 0.5719],\n",
       "        [0.4524, 0.1443, 0.3194],\n",
       "        [0.6217, 0.5417, 0.8067],\n",
       "        [0.4258, 0.0893, 0.3607]])"
      ]
     },
     "execution_count": 442,
     "metadata": {},
     "output_type": "execute_result"
    }
   ],
   "source": [
    "ctl.calculate_centroids(fake_embeddings)"
   ]
  },
  {
   "cell_type": "code",
   "execution_count": null,
   "metadata": {},
   "outputs": [
    {
     "data": {
      "text/plain": [
       "tensor(0.3374)"
      ]
     },
     "execution_count": 443,
     "metadata": {},
     "output_type": "execute_result"
    }
   ],
   "source": [
    "ctl(fake_embeddings)"
   ]
  },
  {
   "cell_type": "code",
   "execution_count": null,
   "metadata": {},
   "outputs": [],
   "source": [
    "fake_logits = torch.rand(size=(12, 4))\n",
    "fake_targets = torch.rand_like(fake_logits)\n",
    "compl_loss = CompleteLoss()"
   ]
  },
  {
   "cell_type": "code",
   "execution_count": null,
   "metadata": {},
   "outputs": [
    {
     "data": {
      "text/plain": [
       "tensor(3.2630)"
      ]
     },
     "execution_count": 446,
     "metadata": {},
     "output_type": "execute_result"
    }
   ],
   "source": [
    "compl_loss(fake_logits, fake_targets, ctl(fake_embeddings))"
   ]
  },
  {
   "cell_type": "markdown",
   "metadata": {},
   "source": [
    "## CNN"
   ]
  },
  {
   "cell_type": "code",
   "execution_count": null,
   "metadata": {},
   "outputs": [],
   "source": [
    "from sklearn.model_selection import train_test_split"
   ]
  },
  {
   "cell_type": "code",
   "execution_count": null,
   "metadata": {},
   "outputs": [
    {
     "data": {
      "text/plain": [
       "Index(['label', 'pixel0', 'pixel1', 'pixel2', 'pixel3', 'pixel4', 'pixel5',\n",
       "       'pixel6', 'pixel7', 'pixel8',\n",
       "       ...\n",
       "       'pixel774', 'pixel775', 'pixel776', 'pixel777', 'pixel778', 'pixel779',\n",
       "       'pixel780', 'pixel781', 'pixel782', 'pixel783'],\n",
       "      dtype='object', length=785)"
      ]
     },
     "execution_count": 449,
     "metadata": {},
     "output_type": "execute_result"
    }
   ],
   "source": [
    "data.columns"
   ]
  },
  {
   "cell_type": "code",
   "execution_count": null,
   "metadata": {},
   "outputs": [
    {
     "data": {
      "text/plain": [
       "((37800, 785), (4200, 785))"
      ]
     },
     "execution_count": 450,
     "metadata": {},
     "output_type": "execute_result"
    }
   ],
   "source": [
    "X_complete = data.drop(columns=[\"label\"])\n",
    "y_complete = data.label\n",
    "X_tr, X_val, y_tr, y_val = train_test_split(X_complete, y_complete, test_size=0.1)\n",
    "train_data = pd.concat([X_tr, y_tr], axis=1, join='outer')\n",
    "val_data = pd.concat([X_val, y_val], axis=1, join='outer')\n",
    "\n",
    "train_data.shape, val_data.shape"
   ]
  },
  {
   "cell_type": "code",
   "execution_count": null,
   "metadata": {},
   "outputs": [],
   "source": [
    "train_dataset = MNISTDataset(train_data)\n",
    "train_dataloader = DataLoader(train_dataset, batch_sampler=train_dataset.get_sampler(group_size=32))\n",
    "val_dataset = MNISTDataset(val_data)\n",
    "val_dataloader = DataLoader(val_dataset, batch_sampler=val_dataset.get_sampler(group_size=32))"
   ]
  },
  {
   "cell_type": "code",
   "execution_count": null,
   "metadata": {},
   "outputs": [
    {
     "data": {
      "text/plain": [
       "(37800, 4200)"
      ]
     },
     "execution_count": 452,
     "metadata": {},
     "output_type": "execute_result"
    }
   ],
   "source": [
    "len(train_dataset), len(val_dataset)"
   ]
  },
  {
   "cell_type": "code",
   "execution_count": null,
   "metadata": {},
   "outputs": [
    {
     "data": {
      "text/plain": [
       "(106, 11)"
      ]
     },
     "execution_count": 453,
     "metadata": {},
     "output_type": "execute_result"
    }
   ],
   "source": [
    "len(train_dataloader), len(val_dataloader)"
   ]
  },
  {
   "cell_type": "code",
   "execution_count": null,
   "metadata": {},
   "outputs": [
    {
     "ename": "IndexError",
     "evalue": "single positional indexer is out-of-bounds",
     "output_type": "error",
     "traceback": [
      "\u001b[0;31m---------------------------------------------------------------------------\u001b[0m",
      "\u001b[0;31mIndexError\u001b[0m                                Traceback (most recent call last)",
      "Cell \u001b[0;32mIn[454], line 1\u001b[0m\n\u001b[0;32m----> 1\u001b[0m \u001b[39mfor\u001b[39;00m batch, (X, y) \u001b[39min\u001b[39;00m \u001b[39menumerate\u001b[39m(train_dataloader):\n\u001b[1;32m      2\u001b[0m     \u001b[39mprint\u001b[39m(batch)\n",
      "File \u001b[0;32m~/.local/lib/python3.10/site-packages/torch/utils/data/dataloader.py:631\u001b[0m, in \u001b[0;36m_BaseDataLoaderIter.__next__\u001b[0;34m(self)\u001b[0m\n\u001b[1;32m    628\u001b[0m \u001b[39mif\u001b[39;00m \u001b[39mself\u001b[39m\u001b[39m.\u001b[39m_sampler_iter \u001b[39mis\u001b[39;00m \u001b[39mNone\u001b[39;00m:\n\u001b[1;32m    629\u001b[0m     \u001b[39m# TODO(https://github.com/pytorch/pytorch/issues/76750)\u001b[39;00m\n\u001b[1;32m    630\u001b[0m     \u001b[39mself\u001b[39m\u001b[39m.\u001b[39m_reset()  \u001b[39m# type: ignore[call-arg]\u001b[39;00m\n\u001b[0;32m--> 631\u001b[0m data \u001b[39m=\u001b[39m \u001b[39mself\u001b[39;49m\u001b[39m.\u001b[39;49m_next_data()\n\u001b[1;32m    632\u001b[0m \u001b[39mself\u001b[39m\u001b[39m.\u001b[39m_num_yielded \u001b[39m+\u001b[39m\u001b[39m=\u001b[39m \u001b[39m1\u001b[39m\n\u001b[1;32m    633\u001b[0m \u001b[39mif\u001b[39;00m \u001b[39mself\u001b[39m\u001b[39m.\u001b[39m_dataset_kind \u001b[39m==\u001b[39m _DatasetKind\u001b[39m.\u001b[39mIterable \u001b[39mand\u001b[39;00m \\\n\u001b[1;32m    634\u001b[0m         \u001b[39mself\u001b[39m\u001b[39m.\u001b[39m_IterableDataset_len_called \u001b[39mis\u001b[39;00m \u001b[39mnot\u001b[39;00m \u001b[39mNone\u001b[39;00m \u001b[39mand\u001b[39;00m \\\n\u001b[1;32m    635\u001b[0m         \u001b[39mself\u001b[39m\u001b[39m.\u001b[39m_num_yielded \u001b[39m>\u001b[39m \u001b[39mself\u001b[39m\u001b[39m.\u001b[39m_IterableDataset_len_called:\n",
      "File \u001b[0;32m~/.local/lib/python3.10/site-packages/torch/utils/data/dataloader.py:675\u001b[0m, in \u001b[0;36m_SingleProcessDataLoaderIter._next_data\u001b[0;34m(self)\u001b[0m\n\u001b[1;32m    673\u001b[0m \u001b[39mdef\u001b[39;00m \u001b[39m_next_data\u001b[39m(\u001b[39mself\u001b[39m):\n\u001b[1;32m    674\u001b[0m     index \u001b[39m=\u001b[39m \u001b[39mself\u001b[39m\u001b[39m.\u001b[39m_next_index()  \u001b[39m# may raise StopIteration\u001b[39;00m\n\u001b[0;32m--> 675\u001b[0m     data \u001b[39m=\u001b[39m \u001b[39mself\u001b[39;49m\u001b[39m.\u001b[39;49m_dataset_fetcher\u001b[39m.\u001b[39;49mfetch(index)  \u001b[39m# may raise StopIteration\u001b[39;00m\n\u001b[1;32m    676\u001b[0m     \u001b[39mif\u001b[39;00m \u001b[39mself\u001b[39m\u001b[39m.\u001b[39m_pin_memory:\n\u001b[1;32m    677\u001b[0m         data \u001b[39m=\u001b[39m _utils\u001b[39m.\u001b[39mpin_memory\u001b[39m.\u001b[39mpin_memory(data, \u001b[39mself\u001b[39m\u001b[39m.\u001b[39m_pin_memory_device)\n",
      "File \u001b[0;32m~/.local/lib/python3.10/site-packages/torch/utils/data/_utils/fetch.py:51\u001b[0m, in \u001b[0;36m_MapDatasetFetcher.fetch\u001b[0;34m(self, possibly_batched_index)\u001b[0m\n\u001b[1;32m     49\u001b[0m         data \u001b[39m=\u001b[39m \u001b[39mself\u001b[39m\u001b[39m.\u001b[39mdataset\u001b[39m.\u001b[39m__getitems__(possibly_batched_index)\n\u001b[1;32m     50\u001b[0m     \u001b[39melse\u001b[39;00m:\n\u001b[0;32m---> 51\u001b[0m         data \u001b[39m=\u001b[39m [\u001b[39mself\u001b[39m\u001b[39m.\u001b[39mdataset[idx] \u001b[39mfor\u001b[39;00m idx \u001b[39min\u001b[39;00m possibly_batched_index]\n\u001b[1;32m     52\u001b[0m \u001b[39melse\u001b[39;00m:\n\u001b[1;32m     53\u001b[0m     data \u001b[39m=\u001b[39m \u001b[39mself\u001b[39m\u001b[39m.\u001b[39mdataset[possibly_batched_index]\n",
      "File \u001b[0;32m~/.local/lib/python3.10/site-packages/torch/utils/data/_utils/fetch.py:51\u001b[0m, in \u001b[0;36m<listcomp>\u001b[0;34m(.0)\u001b[0m\n\u001b[1;32m     49\u001b[0m         data \u001b[39m=\u001b[39m \u001b[39mself\u001b[39m\u001b[39m.\u001b[39mdataset\u001b[39m.\u001b[39m__getitems__(possibly_batched_index)\n\u001b[1;32m     50\u001b[0m     \u001b[39melse\u001b[39;00m:\n\u001b[0;32m---> 51\u001b[0m         data \u001b[39m=\u001b[39m [\u001b[39mself\u001b[39;49m\u001b[39m.\u001b[39;49mdataset[idx] \u001b[39mfor\u001b[39;00m idx \u001b[39min\u001b[39;00m possibly_batched_index]\n\u001b[1;32m     52\u001b[0m \u001b[39melse\u001b[39;00m:\n\u001b[1;32m     53\u001b[0m     data \u001b[39m=\u001b[39m \u001b[39mself\u001b[39m\u001b[39m.\u001b[39mdataset[possibly_batched_index]\n",
      "Cell \u001b[0;32mIn[401], line 26\u001b[0m, in \u001b[0;36mMNISTDataset.__getitem__\u001b[0;34m(self, idx)\u001b[0m\n\u001b[1;32m     25\u001b[0m \u001b[39mdef\u001b[39;00m \u001b[39m__getitem__\u001b[39m(\u001b[39mself\u001b[39m, idx):\n\u001b[0;32m---> 26\u001b[0m     X \u001b[39m=\u001b[39m \u001b[39mself\u001b[39m\u001b[39m.\u001b[39mtransforms(\u001b[39mself\u001b[39;49m\u001b[39m.\u001b[39;49mimages\u001b[39m.\u001b[39;49miloc[idx]\u001b[39m.\u001b[39munsqueeze(dim\u001b[39m=\u001b[39m\u001b[39m0\u001b[39m))\n\u001b[1;32m     27\u001b[0m     y \u001b[39m=\u001b[39m \u001b[39mself\u001b[39m\u001b[39m.\u001b[39mtargets[idx]\n\u001b[1;32m     28\u001b[0m     \u001b[39mreturn\u001b[39;00m (X, y)\n",
      "File \u001b[0;32m~/.local/lib/python3.10/site-packages/pandas/core/indexing.py:1153\u001b[0m, in \u001b[0;36m_LocationIndexer.__getitem__\u001b[0;34m(self, key)\u001b[0m\n\u001b[1;32m   1150\u001b[0m axis \u001b[39m=\u001b[39m \u001b[39mself\u001b[39m\u001b[39m.\u001b[39maxis \u001b[39mor\u001b[39;00m \u001b[39m0\u001b[39m\n\u001b[1;32m   1152\u001b[0m maybe_callable \u001b[39m=\u001b[39m com\u001b[39m.\u001b[39mapply_if_callable(key, \u001b[39mself\u001b[39m\u001b[39m.\u001b[39mobj)\n\u001b[0;32m-> 1153\u001b[0m \u001b[39mreturn\u001b[39;00m \u001b[39mself\u001b[39;49m\u001b[39m.\u001b[39;49m_getitem_axis(maybe_callable, axis\u001b[39m=\u001b[39;49maxis)\n",
      "File \u001b[0;32m~/.local/lib/python3.10/site-packages/pandas/core/indexing.py:1714\u001b[0m, in \u001b[0;36m_iLocIndexer._getitem_axis\u001b[0;34m(self, key, axis)\u001b[0m\n\u001b[1;32m   1711\u001b[0m     \u001b[39mraise\u001b[39;00m \u001b[39mTypeError\u001b[39;00m(\u001b[39m\"\u001b[39m\u001b[39mCannot index by location index with a non-integer key\u001b[39m\u001b[39m\"\u001b[39m)\n\u001b[1;32m   1713\u001b[0m \u001b[39m# validate the location\u001b[39;00m\n\u001b[0;32m-> 1714\u001b[0m \u001b[39mself\u001b[39;49m\u001b[39m.\u001b[39;49m_validate_integer(key, axis)\n\u001b[1;32m   1716\u001b[0m \u001b[39mreturn\u001b[39;00m \u001b[39mself\u001b[39m\u001b[39m.\u001b[39mobj\u001b[39m.\u001b[39m_ixs(key, axis\u001b[39m=\u001b[39maxis)\n",
      "File \u001b[0;32m~/.local/lib/python3.10/site-packages/pandas/core/indexing.py:1647\u001b[0m, in \u001b[0;36m_iLocIndexer._validate_integer\u001b[0;34m(self, key, axis)\u001b[0m\n\u001b[1;32m   1645\u001b[0m len_axis \u001b[39m=\u001b[39m \u001b[39mlen\u001b[39m(\u001b[39mself\u001b[39m\u001b[39m.\u001b[39mobj\u001b[39m.\u001b[39m_get_axis(axis))\n\u001b[1;32m   1646\u001b[0m \u001b[39mif\u001b[39;00m key \u001b[39m>\u001b[39m\u001b[39m=\u001b[39m len_axis \u001b[39mor\u001b[39;00m key \u001b[39m<\u001b[39m \u001b[39m-\u001b[39mlen_axis:\n\u001b[0;32m-> 1647\u001b[0m     \u001b[39mraise\u001b[39;00m \u001b[39mIndexError\u001b[39;00m(\u001b[39m\"\u001b[39m\u001b[39msingle positional indexer is out-of-bounds\u001b[39m\u001b[39m\"\u001b[39m)\n",
      "\u001b[0;31mIndexError\u001b[0m: single positional indexer is out-of-bounds"
     ]
    }
   ],
   "source": [
    "for batch, (X, y) in enumerate(train_dataloader):\n",
    "    print(batch)"
   ]
  },
  {
   "cell_type": "code",
   "execution_count": 523,
   "metadata": {},
   "outputs": [],
   "source": [
    "cnn = MNISTCNN()"
   ]
  },
  {
   "cell_type": "code",
   "execution_count": 524,
   "metadata": {},
   "outputs": [
    {
     "data": {
      "application/vnd.jupyter.widget-view+json": {
       "model_id": "7d2ce4350cfd47b4afb0037558e29d61",
       "version_major": 2,
       "version_minor": 0
      },
      "text/plain": [
       "Época:   0%|          | 0/5 [00:00<?, ?it/s]"
      ]
     },
     "metadata": {},
     "output_type": "display_data"
    },
    {
     "data": {
      "application/vnd.jupyter.widget-view+json": {
       "model_id": "8eb602e2d82e433ca3d1914a75e4ff9b",
       "version_major": 2,
       "version_minor": 0
      },
      "text/plain": [
       "Batch: 0it [00:00, ?it/s]"
      ]
     },
     "metadata": {},
     "output_type": "display_data"
    },
    {
     "data": {
      "application/vnd.jupyter.widget-view+json": {
       "model_id": "2407eb1f57c34714821dc647fef9c64e",
       "version_major": 2,
       "version_minor": 0
      },
      "text/plain": [
       "Batch: 0it [00:00, ?it/s]"
      ]
     },
     "metadata": {},
     "output_type": "display_data"
    },
    {
     "data": {
      "application/vnd.jupyter.widget-view+json": {
       "model_id": "c95f14c934ed4703bb9db2f5ee88e825",
       "version_major": 2,
       "version_minor": 0
      },
      "text/plain": [
       "Batch: 0it [00:00, ?it/s]"
      ]
     },
     "metadata": {},
     "output_type": "display_data"
    },
    {
     "data": {
      "application/vnd.jupyter.widget-view+json": {
       "model_id": "f2a71a959d034ac9912fd5b1fe745ef9",
       "version_major": 2,
       "version_minor": 0
      },
      "text/plain": [
       "Batch: 0it [00:00, ?it/s]"
      ]
     },
     "metadata": {},
     "output_type": "display_data"
    },
    {
     "data": {
      "application/vnd.jupyter.widget-view+json": {
       "model_id": "57b1843a47014492a5e8b8dbdfa5cdcf",
       "version_major": 2,
       "version_minor": 0
      },
      "text/plain": [
       "Batch: 0it [00:00, ?it/s]"
      ]
     },
     "metadata": {},
     "output_type": "display_data"
    }
   ],
   "source": [
    "cnn.fit(\n",
    "    tr_dataloader=dataloader,\n",
    "    validate=False,\n",
    "    val_dataloader=val_dataloader,\n",
    "    epochs=5\n",
    ")"
   ]
  },
  {
   "cell_type": "code",
   "execution_count": 525,
   "metadata": {},
   "outputs": [
    {
     "data": {
      "image/png": "[encoded data removed]",
      "text/plain": [
       "<Figure size 640x480 with 1 Axes>"
      ]
     },
     "metadata": {},
     "output_type": "display_data"
    }
   ],
   "source": [
    "cnn.plot_loss_history()"
   ]
  },
  {
   "cell_type": "code",
   "execution_count": null,
   "metadata": {},
   "outputs": [
    {
     "data": {
      "application/vnd.jupyter.widget-view+json": {
       "model_id": "fb2b02c872a34a9bb03d8fcbc5904baf",
       "version_major": 2,
       "version_minor": 0
      },
      "text/plain": [
       "Época:   0%|          | 0/120 [00:00<?, ?it/s]"
      ]
     },
     "metadata": {},
     "output_type": "display_data"
    },
    {
     "data": {
      "application/vnd.jupyter.widget-view+json": {
       "model_id": "39da6ce935444baa965c5cc3d6c8a420",
       "version_major": 2,
       "version_minor": 0
      },
      "text/plain": [
       "Batch: 0it [00:00, ?it/s]"
      ]
     },
     "metadata": {},
     "output_type": "display_data"
    },
    {
     "ename": "IndexError",
     "evalue": "single positional indexer is out-of-bounds",
     "output_type": "error",
     "traceback": [
      "\u001b[0;31m---------------------------------------------------------------------------\u001b[0m",
      "\u001b[0;31mIndexError\u001b[0m                                Traceback (most recent call last)",
      "Cell \u001b[0;32mIn[379], line 1\u001b[0m\n\u001b[0;32m----> 1\u001b[0m cnn\u001b[39m.\u001b[39;49mfit(\n\u001b[1;32m      2\u001b[0m     tr_dataloader\u001b[39m=\u001b[39;49mtrain_dataloader,\n\u001b[1;32m      3\u001b[0m     validate\u001b[39m=\u001b[39;49m\u001b[39mTrue\u001b[39;49;00m,\n\u001b[1;32m      4\u001b[0m     val_dataloader\u001b[39m=\u001b[39;49mval_dataloader,\n\u001b[1;32m      5\u001b[0m )\n",
      "Cell \u001b[0;32mIn[352], line 73\u001b[0m, in \u001b[0;36mMNISTCNN.fit\u001b[0;34m(self, tr_dataloader, validate, val_dataloader, epochs, lr, margin, group_size, crossent_w)\u001b[0m\n\u001b[1;32m     68\u001b[0m epoch_val_loss \u001b[39m=\u001b[39m \u001b[39m0\u001b[39m\n\u001b[1;32m     69\u001b[0m batch_iterator \u001b[39m=\u001b[39m tqdm(\n\u001b[1;32m     70\u001b[0m     \u001b[39menumerate\u001b[39m(tr_dataloader),\n\u001b[1;32m     71\u001b[0m     desc\u001b[39m=\u001b[39m\u001b[39m\"\u001b[39m\u001b[39mBatch\u001b[39m\u001b[39m\"\u001b[39m\n\u001b[1;32m     72\u001b[0m )\n\u001b[0;32m---> 73\u001b[0m \u001b[39mfor\u001b[39;00m batch, (X, y) \u001b[39min\u001b[39;00m batch_iterator:\n\u001b[1;32m     74\u001b[0m     \u001b[39mself\u001b[39m\u001b[39m.\u001b[39mtrain()\n\u001b[1;32m     75\u001b[0m     embeddings \u001b[39m=\u001b[39m \u001b[39mself\u001b[39m(X)\n",
      "File \u001b[0;32m~/.local/lib/python3.10/site-packages/tqdm/notebook.py:250\u001b[0m, in \u001b[0;36mtqdm_notebook.__iter__\u001b[0;34m(self)\u001b[0m\n\u001b[1;32m    248\u001b[0m \u001b[39mtry\u001b[39;00m:\n\u001b[1;32m    249\u001b[0m     it \u001b[39m=\u001b[39m \u001b[39msuper\u001b[39m()\u001b[39m.\u001b[39m\u001b[39m__iter__\u001b[39m()\n\u001b[0;32m--> 250\u001b[0m     \u001b[39mfor\u001b[39;00m obj \u001b[39min\u001b[39;00m it:\n\u001b[1;32m    251\u001b[0m         \u001b[39m# return super(tqdm...) will not catch exception\u001b[39;00m\n\u001b[1;32m    252\u001b[0m         \u001b[39myield\u001b[39;00m obj\n\u001b[1;32m    253\u001b[0m \u001b[39m# NB: except ... [ as ...] breaks IPython async KeyboardInterrupt\u001b[39;00m\n",
      "File \u001b[0;32m~/.local/lib/python3.10/site-packages/tqdm/std.py:1181\u001b[0m, in \u001b[0;36mtqdm.__iter__\u001b[0;34m(self)\u001b[0m\n\u001b[1;32m   1178\u001b[0m time \u001b[39m=\u001b[39m \u001b[39mself\u001b[39m\u001b[39m.\u001b[39m_time\n\u001b[1;32m   1180\u001b[0m \u001b[39mtry\u001b[39;00m:\n\u001b[0;32m-> 1181\u001b[0m     \u001b[39mfor\u001b[39;00m obj \u001b[39min\u001b[39;00m iterable:\n\u001b[1;32m   1182\u001b[0m         \u001b[39myield\u001b[39;00m obj\n\u001b[1;32m   1183\u001b[0m         \u001b[39m# Update and possibly print the progressbar.\u001b[39;00m\n\u001b[1;32m   1184\u001b[0m         \u001b[39m# Note: does not call self.update(1) for speed optimisation.\u001b[39;00m\n",
      "File \u001b[0;32m~/.local/lib/python3.10/site-packages/torch/utils/data/dataloader.py:631\u001b[0m, in \u001b[0;36m_BaseDataLoaderIter.__next__\u001b[0;34m(self)\u001b[0m\n\u001b[1;32m    628\u001b[0m \u001b[39mif\u001b[39;00m \u001b[39mself\u001b[39m\u001b[39m.\u001b[39m_sampler_iter \u001b[39mis\u001b[39;00m \u001b[39mNone\u001b[39;00m:\n\u001b[1;32m    629\u001b[0m     \u001b[39m# TODO(https://github.com/pytorch/pytorch/issues/76750)\u001b[39;00m\n\u001b[1;32m    630\u001b[0m     \u001b[39mself\u001b[39m\u001b[39m.\u001b[39m_reset()  \u001b[39m# type: ignore[call-arg]\u001b[39;00m\n\u001b[0;32m--> 631\u001b[0m data \u001b[39m=\u001b[39m \u001b[39mself\u001b[39;49m\u001b[39m.\u001b[39;49m_next_data()\n\u001b[1;32m    632\u001b[0m \u001b[39mself\u001b[39m\u001b[39m.\u001b[39m_num_yielded \u001b[39m+\u001b[39m\u001b[39m=\u001b[39m \u001b[39m1\u001b[39m\n\u001b[1;32m    633\u001b[0m \u001b[39mif\u001b[39;00m \u001b[39mself\u001b[39m\u001b[39m.\u001b[39m_dataset_kind \u001b[39m==\u001b[39m _DatasetKind\u001b[39m.\u001b[39mIterable \u001b[39mand\u001b[39;00m \\\n\u001b[1;32m    634\u001b[0m         \u001b[39mself\u001b[39m\u001b[39m.\u001b[39m_IterableDataset_len_called \u001b[39mis\u001b[39;00m \u001b[39mnot\u001b[39;00m \u001b[39mNone\u001b[39;00m \u001b[39mand\u001b[39;00m \\\n\u001b[1;32m    635\u001b[0m         \u001b[39mself\u001b[39m\u001b[39m.\u001b[39m_num_yielded \u001b[39m>\u001b[39m \u001b[39mself\u001b[39m\u001b[39m.\u001b[39m_IterableDataset_len_called:\n",
      "File \u001b[0;32m~/.local/lib/python3.10/site-packages/torch/utils/data/dataloader.py:675\u001b[0m, in \u001b[0;36m_SingleProcessDataLoaderIter._next_data\u001b[0;34m(self)\u001b[0m\n\u001b[1;32m    673\u001b[0m \u001b[39mdef\u001b[39;00m \u001b[39m_next_data\u001b[39m(\u001b[39mself\u001b[39m):\n\u001b[1;32m    674\u001b[0m     index \u001b[39m=\u001b[39m \u001b[39mself\u001b[39m\u001b[39m.\u001b[39m_next_index()  \u001b[39m# may raise StopIteration\u001b[39;00m\n\u001b[0;32m--> 675\u001b[0m     data \u001b[39m=\u001b[39m \u001b[39mself\u001b[39;49m\u001b[39m.\u001b[39;49m_dataset_fetcher\u001b[39m.\u001b[39;49mfetch(index)  \u001b[39m# may raise StopIteration\u001b[39;00m\n\u001b[1;32m    676\u001b[0m     \u001b[39mif\u001b[39;00m \u001b[39mself\u001b[39m\u001b[39m.\u001b[39m_pin_memory:\n\u001b[1;32m    677\u001b[0m         data \u001b[39m=\u001b[39m _utils\u001b[39m.\u001b[39mpin_memory\u001b[39m.\u001b[39mpin_memory(data, \u001b[39mself\u001b[39m\u001b[39m.\u001b[39m_pin_memory_device)\n",
      "File \u001b[0;32m~/.local/lib/python3.10/site-packages/torch/utils/data/_utils/fetch.py:51\u001b[0m, in \u001b[0;36m_MapDatasetFetcher.fetch\u001b[0;34m(self, possibly_batched_index)\u001b[0m\n\u001b[1;32m     49\u001b[0m         data \u001b[39m=\u001b[39m \u001b[39mself\u001b[39m\u001b[39m.\u001b[39mdataset\u001b[39m.\u001b[39m__getitems__(possibly_batched_index)\n\u001b[1;32m     50\u001b[0m     \u001b[39melse\u001b[39;00m:\n\u001b[0;32m---> 51\u001b[0m         data \u001b[39m=\u001b[39m [\u001b[39mself\u001b[39m\u001b[39m.\u001b[39mdataset[idx] \u001b[39mfor\u001b[39;00m idx \u001b[39min\u001b[39;00m possibly_batched_index]\n\u001b[1;32m     52\u001b[0m \u001b[39melse\u001b[39;00m:\n\u001b[1;32m     53\u001b[0m     data \u001b[39m=\u001b[39m \u001b[39mself\u001b[39m\u001b[39m.\u001b[39mdataset[possibly_batched_index]\n",
      "File \u001b[0;32m~/.local/lib/python3.10/site-packages/torch/utils/data/_utils/fetch.py:51\u001b[0m, in \u001b[0;36m<listcomp>\u001b[0;34m(.0)\u001b[0m\n\u001b[1;32m     49\u001b[0m         data \u001b[39m=\u001b[39m \u001b[39mself\u001b[39m\u001b[39m.\u001b[39mdataset\u001b[39m.\u001b[39m__getitems__(possibly_batched_index)\n\u001b[1;32m     50\u001b[0m     \u001b[39melse\u001b[39;00m:\n\u001b[0;32m---> 51\u001b[0m         data \u001b[39m=\u001b[39m [\u001b[39mself\u001b[39;49m\u001b[39m.\u001b[39;49mdataset[idx] \u001b[39mfor\u001b[39;00m idx \u001b[39min\u001b[39;00m possibly_batched_index]\n\u001b[1;32m     52\u001b[0m \u001b[39melse\u001b[39;00m:\n\u001b[1;32m     53\u001b[0m     data \u001b[39m=\u001b[39m \u001b[39mself\u001b[39m\u001b[39m.\u001b[39mdataset[possibly_batched_index]\n",
      "Cell \u001b[0;32mIn[350], line 26\u001b[0m, in \u001b[0;36mMNISTDataset.__getitem__\u001b[0;34m(self, idx)\u001b[0m\n\u001b[1;32m     25\u001b[0m \u001b[39mdef\u001b[39;00m \u001b[39m__getitem__\u001b[39m(\u001b[39mself\u001b[39m, idx):\n\u001b[0;32m---> 26\u001b[0m     X \u001b[39m=\u001b[39m \u001b[39mself\u001b[39m\u001b[39m.\u001b[39mtransforms(\u001b[39mself\u001b[39;49m\u001b[39m.\u001b[39;49mimages\u001b[39m.\u001b[39;49miloc[idx]\u001b[39m.\u001b[39munsqueeze(dim\u001b[39m=\u001b[39m\u001b[39m0\u001b[39m))\n\u001b[1;32m     27\u001b[0m     y \u001b[39m=\u001b[39m \u001b[39mself\u001b[39m\u001b[39m.\u001b[39mtargets[idx]\n\u001b[1;32m     28\u001b[0m     \u001b[39mreturn\u001b[39;00m (X, y)\n",
      "File \u001b[0;32m~/.local/lib/python3.10/site-packages/pandas/core/indexing.py:1153\u001b[0m, in \u001b[0;36m_LocationIndexer.__getitem__\u001b[0;34m(self, key)\u001b[0m\n\u001b[1;32m   1150\u001b[0m axis \u001b[39m=\u001b[39m \u001b[39mself\u001b[39m\u001b[39m.\u001b[39maxis \u001b[39mor\u001b[39;00m \u001b[39m0\u001b[39m\n\u001b[1;32m   1152\u001b[0m maybe_callable \u001b[39m=\u001b[39m com\u001b[39m.\u001b[39mapply_if_callable(key, \u001b[39mself\u001b[39m\u001b[39m.\u001b[39mobj)\n\u001b[0;32m-> 1153\u001b[0m \u001b[39mreturn\u001b[39;00m \u001b[39mself\u001b[39;49m\u001b[39m.\u001b[39;49m_getitem_axis(maybe_callable, axis\u001b[39m=\u001b[39;49maxis)\n",
      "File \u001b[0;32m~/.local/lib/python3.10/site-packages/pandas/core/indexing.py:1714\u001b[0m, in \u001b[0;36m_iLocIndexer._getitem_axis\u001b[0;34m(self, key, axis)\u001b[0m\n\u001b[1;32m   1711\u001b[0m     \u001b[39mraise\u001b[39;00m \u001b[39mTypeError\u001b[39;00m(\u001b[39m\"\u001b[39m\u001b[39mCannot index by location index with a non-integer key\u001b[39m\u001b[39m\"\u001b[39m)\n\u001b[1;32m   1713\u001b[0m \u001b[39m# validate the location\u001b[39;00m\n\u001b[0;32m-> 1714\u001b[0m \u001b[39mself\u001b[39;49m\u001b[39m.\u001b[39;49m_validate_integer(key, axis)\n\u001b[1;32m   1716\u001b[0m \u001b[39mreturn\u001b[39;00m \u001b[39mself\u001b[39m\u001b[39m.\u001b[39mobj\u001b[39m.\u001b[39m_ixs(key, axis\u001b[39m=\u001b[39maxis)\n",
      "File \u001b[0;32m~/.local/lib/python3.10/site-packages/pandas/core/indexing.py:1647\u001b[0m, in \u001b[0;36m_iLocIndexer._validate_integer\u001b[0;34m(self, key, axis)\u001b[0m\n\u001b[1;32m   1645\u001b[0m len_axis \u001b[39m=\u001b[39m \u001b[39mlen\u001b[39m(\u001b[39mself\u001b[39m\u001b[39m.\u001b[39mobj\u001b[39m.\u001b[39m_get_axis(axis))\n\u001b[1;32m   1646\u001b[0m \u001b[39mif\u001b[39;00m key \u001b[39m>\u001b[39m\u001b[39m=\u001b[39m len_axis \u001b[39mor\u001b[39;00m key \u001b[39m<\u001b[39m \u001b[39m-\u001b[39mlen_axis:\n\u001b[0;32m-> 1647\u001b[0m     \u001b[39mraise\u001b[39;00m \u001b[39mIndexError\u001b[39;00m(\u001b[39m\"\u001b[39m\u001b[39msingle positional indexer is out-of-bounds\u001b[39m\u001b[39m\"\u001b[39m)\n",
      "\u001b[0;31mIndexError\u001b[0m: single positional indexer is out-of-bounds"
     ]
    }
   ],
   "source": [
    "cnn.fit(\n",
    "    tr_dataloader=train_dataloader,\n",
    "    validate=True,\n",
    "    val_dataloader=val_dataloader\n",
    ")"
   ]
  }
 ],
 "metadata": {
  "kernelspec": {
   "display_name": "Python 3",
   "language": "python",
   "name": "python3"
  },
  "language_info": {
   "codemirror_mode": {
    "name": "ipython",
    "version": 3
   },
   "file_extension": ".py",
   "mimetype": "text/x-python",
   "name": "python",
   "nbconvert_exporter": "python",
   "pygments_lexer": "ipython3",
   "version": "3.12.3"
  },
  "orig_nbformat": 4
 },
 "nbformat": 4,
 "nbformat_minor": 2
}
